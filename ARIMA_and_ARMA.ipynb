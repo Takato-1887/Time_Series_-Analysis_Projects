{
 "cells": [
  {
   "cell_type": "code",
   "execution_count": 2,
   "id": "d1d50e07-5b46-41dd-81f5-cceaf1d2f81f",
   "metadata": {},
   "outputs": [
    {
     "data": {
      "text/plain": [
       "(0    0.496714\n",
       " 1    0.308778\n",
       " 2    0.746772\n",
       " 3    2.155491\n",
       " 4    1.452804\n",
       " Name: ARMA Sample, dtype: float64,\n",
       " 0   -7.076854\n",
       " 1   -1.603227\n",
       " 2   -0.713573\n",
       " 3   -2.511386\n",
       " 4    1.193571\n",
       " Name: ARIMA Sample, dtype: float64)"
      ]
     },
     "execution_count": 2,
     "metadata": {},
     "output_type": "execute_result"
    }
   ],
   "source": [
    "import numpy as np\n",
    "import pandas as pd\n",
    "import matplotlib.pyplot as plt\n",
    "from statsmodels.tsa.arima.model import ARIMA\n",
    "from statsmodels.tsa.ar_model import AutoReg\n",
    "from statsmodels.tsa.arima_process import ArmaProcess\n",
    "\n",
    "# Generate synthetic stationary time series data for ARMA example\n",
    "np.random.seed(42)\n",
    "arma_process = ArmaProcess(ar=[1, -0.5], ma=[1, 0.4])  # AR(1), MA(1)\n",
    "arma_sample = arma_process.generate_sample(nsample=100)\n",
    "\n",
    "# Generate synthetic non-stationary time series data for ARIMA example\n",
    "time = np.arange(100)\n",
    "trend = 0.5 * time + np.random.normal(scale=5, size=100)  # Linear trend + noise\n",
    "\n",
    "# Save both as pandas series\n",
    "arma_series = pd.Series(arma_sample, name=\"ARMA Sample\")\n",
    "arima_series = pd.Series(trend, name=\"ARIMA Sample\")\n",
    "\n",
    "arma_series.head(), arima_series.head()\n"
   ]
  },
  {
   "cell_type": "code",
   "execution_count": 3,
   "id": "7292d499-c253-4164-ba30-6b5994fe9c61",
   "metadata": {},
   "outputs": [],
   "source": [
    "from statsmodels.tsa.arima.model import ARIMA\n",
    "\n",
    "# --- ARMA Example (ARIMA with d=0) ---\n",
    "arma_model = ARIMA(arma_series, order=(1, 0, 1))  # ARMA(1,1)\n",
    "arma_result = arma_model.fit()\n",
    "\n",
    "# Forecast next 10 values\n",
    "arma_forecast = arma_result.forecast(steps=10)"
   ]
  },
  {
   "cell_type": "code",
   "execution_count": 4,
   "id": "a59f6fb9-025a-426d-92e2-51822182e3cb",
   "metadata": {},
   "outputs": [],
   "source": [
    "# --- ARIMA Example (with trend, so d=1) ---\n",
    "arima_model = ARIMA(arima_series, order=(1, 1, 1))  # ARIMA(1,1,1)\n",
    "arima_result = arima_model.fit()"
   ]
  },
  {
   "cell_type": "code",
   "execution_count": 5,
   "id": "081ce974-a475-417a-8dd4-fe7bc2e9b038",
   "metadata": {},
   "outputs": [],
   "source": [
    "# Forecast next 10 values\n",
    "arima_forecast = arima_result.forecast(steps=10)\n"
   ]
  }
 ],
 "metadata": {
  "kernelspec": {
   "display_name": "Python 3 (ipykernel)",
   "language": "python",
   "name": "python3"
  },
  "language_info": {
   "codemirror_mode": {
    "name": "ipython",
    "version": 3
   },
   "file_extension": ".py",
   "mimetype": "text/x-python",
   "name": "python",
   "nbconvert_exporter": "python",
   "pygments_lexer": "ipython3",
   "version": "3.11.7"
  }
 },
 "nbformat": 4,
 "nbformat_minor": 5
}
