{
 "cells": [
  {
   "cell_type": "markdown",
   "id": "8edd9976-76e2-4ec9-a242-7af388dd616d",
   "metadata": {},
   "source": [
    "## Loading the dataset and basic exploration"
   ]
  },
  {
   "cell_type": "code",
   "execution_count": null,
   "id": "674e29d7-1311-49a4-830f-b80500f6832a",
   "metadata": {},
   "outputs": [],
   "source": [
    "import numpy as np\n",
    "from scipy import stats\n",
    "import pandas as pd\n",
    "import matplotlib.pyplot as plt\n",
    "import statsmodels.api as sm\n",
    "\n",
    "from statsmodels.graphics.api import qqplot"
   ]
  },
  {
   "cell_type": "code",
   "execution_count": null,
   "id": "1004aaea-cbe8-4543-89b8-5845506ba490",
   "metadata": {},
   "outputs": [],
   "source": [
    "df= pd.read_csv(\"sunspots.csv\")\n",
    "df.head(10)"
   ]
  },
  {
   "cell_type": "code",
   "execution_count": null,
   "id": "166be9e4-fb48-48ea-933c-cf3ebbb01d90",
   "metadata": {},
   "outputs": [],
   "source": [
    "print(sm.datasets.sunspots.NOTE)"
   ]
  },
  {
   "cell_type": "code",
   "execution_count": null,
   "id": "64507b1d-82c0-43a0-ac30-abbe8161aa1a",
   "metadata": {},
   "outputs": [],
   "source": [
    "df.shape"
   ]
  },
  {
   "cell_type": "code",
   "execution_count": null,
   "id": "e609f489-1e2e-483c-b5d5-6156fa62a669",
   "metadata": {},
   "outputs": [],
   "source": [
    "df.info()"
   ]
  },
  {
   "cell_type": "markdown",
   "id": "5469eb60-fe60-497c-bcd9-5b5337c2bc34",
   "metadata": {},
   "source": [
    "## Preparation of data"
   ]
  },
  {
   "cell_type": "code",
   "execution_count": null,
   "id": "5289e5ea-1fac-495b-8c71-18355eb0cd79",
   "metadata": {},
   "outputs": [],
   "source": [
    "#we will convert the year column into a date-time object\n",
    "df.index = pd.Index(sm.tsa.datetools.dates_from_range('1700', '2008'))\n",
    "del df[\"YEAR\"]\n",
    "df.head()"
   ]
  },
  {
   "cell_type": "code",
   "execution_count": null,
   "id": "54c1d1f7-795f-4950-8de3-288525b1fef1",
   "metadata": {},
   "outputs": [],
   "source": [
    "#plotting the data o have a basic look at the distribution\n",
    "# show plots in the notebook\n",
    "%matplotlib inline\n",
    "df.plot(figsize=(30,8));"
   ]
  },
  {
   "cell_type": "code",
   "execution_count": null,
   "id": "b3ae133e-318a-479d-9bff-f52fd1cd854f",
   "metadata": {},
   "outputs": [],
   "source": [
    "# Durbin-Watson statistic value lies in the 0-4 range, with a value near two indicating no first-order serial correlation. \n",
    "#Positive serial correlation is associated with DW values below 2 and negative serial correlation with DW values above 2.\n",
    "sm.stats.durbin_watson(df)\n"
   ]
  },
  {
   "cell_type": "markdown",
   "id": "63c7994a-86e7-4c9f-8a0d-47350ba3f7fd",
   "metadata": {},
   "source": [
    "The value of **Durbin-Watson** statistic in our example is 0.1395. That means that there is a strong evidence that the variable open has high autocorrelation."
   ]
  },
  {
   "cell_type": "code",
   "execution_count": null,
   "id": "ab62ce24-a380-4859-8b7e-173d3aeda608",
   "metadata": {},
   "outputs": [],
   "source": [
    "# plotting the ACF and PACF\n",
    "%matplotlib inline\n",
    "fig = plt.figure(figsize=(12,8))\n",
    "ax1 = fig.add_subplot(211)\n",
    "fig = sm.graphics.tsa.plot_acf(df.values.squeeze(), lags=40, ax=ax1)\n",
    "ax2 = fig.add_subplot(212)\n",
    "fig = sm.graphics.tsa.plot_pacf(df, lags=40, ax=ax2)"
   ]
  },
  {
   "cell_type": "markdown",
   "id": "652a1be5-4bb5-4e2d-9de7-98026d5b02c1",
   "metadata": {},
   "source": [
    " The plots indicate that *autocorrelation* is present"
   ]
  },
  {
   "cell_type": "code",
   "execution_count": null,
   "id": "dc85fff7-abc8-4fe4-b832-912b3cd35725",
   "metadata": {},
   "outputs": [],
   "source": [
    "#using pandas for ACF plots\n",
    "from pandas.plotting import autocorrelation_plot\n",
    "# show plots in the notebook\n",
    "%matplotlib inline\n",
    "df['SUNACTIVITY_2'] = df['SUNACTIVITY']\n",
    "df['SUNACTIVITY_2'] = (df['SUNACTIVITY_2'] - df['SUNACTIVITY_2'].mean()) / (df['SUNACTIVITY_2'].std())\n",
    "plt.acorr(df['SUNACTIVITY_2'],maxlags = len(df['SUNACTIVITY_2']) -1, linestyle = \"solid\", usevlines = False, marker='')\n",
    "plt.show()\n",
    "autocorrelation_plot(df['SUNACTIVITY'])\n",
    "plt.show()"
   ]
  },
  {
   "cell_type": "markdown",
   "id": "dea75cd9-4589-4bfe-8faa-d92752a1982b",
   "metadata": {},
   "source": [
    "# Modeling the Data"
   ]
  },
  {
   "cell_type": "markdown",
   "id": "470c9422-05b7-46fb-a740-13b67ebcb15f",
   "metadata": {},
   "source": [
    "from statsmodels.tsa.arima.model import ARIMA\n",
    "\n",
    "arma_mod20 = ARIMA(df['SUNACTIVITY'], order=(1, 0, 0)).fit()\n",
    "print(arma_mod20.params)\n"
   ]
  },
  {
   "cell_type": "code",
   "execution_count": null,
   "id": "f379a918-68e7-4428-98d2-446f52af16d8",
   "metadata": {},
   "outputs": [],
   "source": [
    "from statsmodels.tsa.arima.model import ARIMA\n",
    "\n",
    "arma_mod20 = ARIMA(df['SUNACTIVITY'], order=(1, 0, 0)).fit()\n",
    "print(arma_mod20.params)\n"
   ]
  },
  {
   "cell_type": "code",
   "execution_count": null,
   "id": "8f8dfec4-91e5-44fd-ad8d-7357ce103872",
   "metadata": {},
   "outputs": [],
   "source": [
    "print(arma_mod20.aic, arma_mod20.bic, arma_mod20.hqic)"
   ]
  },
  {
   "cell_type": "code",
   "execution_count": null,
   "id": "3d944007-cf64-4db9-9232-25ccb91762f6",
   "metadata": {},
   "outputs": [],
   "source": [
    "sm.stats.durbin_watson(arma_mod20.resid.values)"
   ]
  },
  {
   "cell_type": "markdown",
   "id": "116aab5f-d65e-4a12-947c-1841951da9fc",
   "metadata": {},
   "source": [
    "The Durbin-Watson test shows no autocorrelation."
   ]
  },
  {
   "cell_type": "markdown",
   "id": "fa639f90-ad67-4457-b98a-5960ed813434",
   "metadata": {},
   "source": [
    "## Plotting the Data"
   ]
  },
  {
   "cell_type": "code",
   "execution_count": null,
   "id": "f424daef-bea1-40a9-9525-c174dbc4e9dd",
   "metadata": {},
   "outputs": [],
   "source": [
    "# show plots in the notebook\n",
    "%matplotlib inline\n",
    "fig = plt.figure(figsize=(12,8))\n",
    "ax = fig.add_subplot(111)\n",
    "ax = arma_mod20.resid.plot(ax=ax);"
   ]
  },
  {
   "cell_type": "markdown",
   "id": "c7a16884-0569-4050-9cb9-63539b001573",
   "metadata": {},
   "source": [
    "## Analyzing the Residuals\n",
    "\n",
    "In the following steps, we calculate the residuals, tests the null hypothesis that the residuals come from a normal distribution, and construct a qq-plot."
   ]
  },
  {
   "cell_type": "code",
   "execution_count": null,
   "id": "b5641f01-b050-4303-aa45-95e028e42074",
   "metadata": {},
   "outputs": [],
   "source": [
    "resid20 = arma_mod20.resid\n",
    "stats.normaltest(resid20)\n"
   ]
  },
  {
   "cell_type": "code",
   "execution_count": null,
   "id": "9adac391-05c9-4694-ba51-1cfb801b9152",
   "metadata": {},
   "outputs": [],
   "source": [
    "%matplotlib inline\n",
    "fig = plt.figure(figsize=(12,8))\n",
    "ax1 = fig.add_subplot(211)\n",
    "fig = sm.graphics.tsa.plot_acf(resid20.values.squeeze(), lags=40, ax=ax1)\n",
    "ax2 = fig.add_subplot(212)\n",
    "fig = sm.graphics.tsa.plot_pacf(resid20, lags=40, ax=ax2)"
   ]
  },
  {
   "cell_type": "markdown",
   "id": "6538e5e1-c53a-43f3-b691-e73bc425b755",
   "metadata": {},
   "source": [
    "Next, we calculate the lag, autocorrelation (AC), Q statistic and Prob>Q. The Ljung–Box Q test (named for Greta M. Ljung and George E. P. Box) is a type of statistical test of whether any of a group of autocorrelations of a time series are different from zero. The null hypothesis is, H0: The data are independently distributed (i.e. the correlations in the population from which the sample is taken are 0, so that any observed correlations in the data result from randomness of the sampling process)."
   ]
  },
  {
   "cell_type": "code",
   "execution_count": null,
   "id": "f5840a21-eb2c-42d1-a96f-a37bba3412f6",
   "metadata": {},
   "outputs": [],
   "source": [
    "r, q, p = sm.tsa.acf(resid20.values.squeeze(), nlags=24, qstat=True)\n",
    "data = np.c_[range(1, 25), r[1:25], q, p]\n",
    "table = pd.DataFrame(data, columns=['lag', \"AC\", \"Q\", \"Prob(>Q)\"])\n",
    "print(table.set_index('lag'))\n"
   ]
  },
  {
   "cell_type": "markdown",
   "id": "c6efcd44-ff04-4031-aea5-bfc47dba479b",
   "metadata": {},
   "source": [
    "Notice that the p-values for the Ljung–Box Q test all are well above .05 for lags 1 through 8, indicating “significance.” This is not a desirable result. However, the p-values for the remaining lags through 40 data values as less than .05. So there is much data not contributing to correlations at high lags.\n",
    "\n",
    "\n",
    "## Predictions\n",
    "\n",
    "Next, we compute the predictions and analyze their fit against actual values."
   ]
  },
  {
   "cell_type": "code",
   "execution_count": null,
   "id": "c74fa903-e247-41c9-8e98-1bf291938802",
   "metadata": {},
   "outputs": [],
   "source": [
    "predict_sunspots20 = arma_mod20.predict('1990', '2012', dynamic=True)\n",
    "print(predict_sunspots20)"
   ]
  },
  {
   "cell_type": "code",
   "execution_count": null,
   "id": "a0d64f07-bdc4-476e-870b-bf141cf6e77e",
   "metadata": {},
   "outputs": [],
   "source": [
    "ax = df.loc['1950':].plot(figsize=(12,8))\n",
    "ax = predict_sunspots20.plot(ax=ax, style='r--', label='Dynamic Prediction');\n",
    "ax.legend();\n",
    "ax.axis((-20.0, 38.0, -4.0, 200.0));"
   ]
  },
  {
   "cell_type": "markdown",
   "id": "6b3ecd67-dcee-455a-b8d8-2c5d3e7e1c33",
   "metadata": {},
   "source": [
    "The fit looks good up to about 1998 and underfit the data afterwards."
   ]
  },
  {
   "cell_type": "markdown",
   "id": "49498514-896a-4227-8fec-69ed4f9113b4",
   "metadata": {},
   "source": [
    "## Calculate Forecast Errors\n",
    "\n",
    "#### Mean absolute error:\n",
    "The mean absolute error (MAE) value is computed as the average absolute error value. If this value is 0 (zero), the fit (forecast) is perfect. As compared to the mean squared error value, this measure of fit will “de-emphasize” outliers, that is, unique or rare large error values will affect the MAE less than the MSE value.\n",
    "\n",
    "#### Mean Forecast Error (Bias).\n",
    "The mean forecast error (MFE) is the average error in the observations. A large positive MFE means that the forecast is undershooting the actual observations, and a large negative MFE means the forecast is overshooting the actual observations. A value near zero is ideal.\n",
    "\n",
    "The MAE is a better indicator of fit than the MFE."
   ]
  }
 ],
 "metadata": {
  "kernelspec": {
   "display_name": "Python 3 (ipykernel)",
   "language": "python",
   "name": "python3"
  },
  "language_info": {
   "codemirror_mode": {
    "name": "ipython",
    "version": 3
   },
   "file_extension": ".py",
   "mimetype": "text/x-python",
   "name": "python",
   "nbconvert_exporter": "python",
   "pygments_lexer": "ipython3",
   "version": "3.11.7"
  }
 },
 "nbformat": 4,
 "nbformat_minor": 5
}
